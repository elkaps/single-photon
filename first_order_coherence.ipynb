{
 "cells": [
  {
   "cell_type": "markdown",
   "metadata": {},
   "source": [
    "# Measurement of the first order correlation function"
   ]
  },
  {
   "cell_type": "markdown",
   "metadata": {},
   "source": [
    "## Single Photon Heralded"
   ]
  },
  {
   "cell_type": "code",
   "execution_count": 27,
   "metadata": {},
   "outputs": [],
   "source": [
    "import numpy as np\n",
    "from utils.data_loading import read_csv\n",
    "from modules.coincidence_counts import count_coincidences"
   ]
  },
  {
   "cell_type": "code",
   "execution_count": 28,
   "metadata": {},
   "outputs": [],
   "source": [
    "import matplotlib.pyplot as plt\n",
    "plt.rcParams['figure.figsize'] = [10, 5]\n",
    "plt.rcParams.update({'figure.max_open_warning': 0})\n",
    "%matplotlib widget"
   ]
  },
  {
   "cell_type": "code",
   "execution_count": 29,
   "metadata": {},
   "outputs": [
    {
     "name": "stderr",
     "output_type": "stream",
     "text": [
      "100%|██████████| 260/260 [05:08<00:00,  1.18s/it]\n"
     ]
    }
   ],
   "source": [
    "import tqdm\n",
    "import os\n",
    "\n",
    "data_dir = 'measurements/g1_correlation_function/single_photon/'\n",
    "\n",
    "voltages_single_photon = np.array([])\n",
    "coinc_rate_heralded = np.array([], dtype=np.float64)\n",
    "coinc_rate_unheralded = np.array([], dtype=np.float64)\n",
    "\n",
    "coinc_window = 5000\n",
    "\n",
    "for file_name in tqdm.tqdm(os.listdir(data_dir)):\n",
    "    \n",
    "    base_name, ext = os.path.splitext(file_name)\n",
    "    if ext != '.csv':\n",
    "        continue\n",
    "    \n",
    "    # load voltage g1_XX_XX\n",
    "    voltages_single_photon = np.append(voltages_single_photon, float(base_name.split('_')[1]) + float(base_name.split('_')[2])/100)\n",
    "    \n",
    "    sync, time = read_csv(os.path.join(data_dir, file_name))\n",
    "    \n",
    "    total_time = time[-1]\n",
    "    \n",
    "    coinc_rate_heralded = np.append(coinc_rate_heralded, count_coincidences(time, sync, coinc_window=coinc_window)/(total_time*1e-3))\n",
    "    \n",
    "    coinc_rate_unheralded = np.append(coinc_rate_unheralded, np.sum(np.where(sync == 1, 1, 0))/(total_time*1e-3))"
   ]
  },
  {
   "cell_type": "code",
   "execution_count": 40,
   "metadata": {},
   "outputs": [
    {
     "data": {
      "application/vnd.jupyter.widget-view+json": {
       "model_id": "e9bfccaa01b743aca1c502c183009102",
       "version_major": 2,
       "version_minor": 0
      },
      "text/plain": [
       "Canvas(toolbar=Toolbar(toolitems=[('Home', 'Reset original view', 'home', 'home'), ('Back', 'Back to previous …"
      ]
     },
     "metadata": {},
     "output_type": "display_data"
    }
   ],
   "source": [
    "fig, ax = plt.subplots()\n",
    "ax.plot(voltages_single_photon, coinc_rate_heralded, marker='x', label='Gemessene Koinzidenzrate')\n",
    "\n",
    "ax.ticklabel_format(axis=\"y\", style=\"sci\", scilimits=(0,0))\n",
    "ax.set_xlabel('Piezo-Spannung [V]')\n",
    "ax.set_ylabel('Koinzidenzrate [1/ns]')\n",
    "\n",
    "ax.legend(loc='lower left', bbox_to_anchor= (0.08, 1.01), ncol=2,\n",
    "            borderaxespad=0, frameon=False)\n",
    "\n",
    "plt.savefig('plots/g1_koinzidenzrate.pdf')  \n",
    "\n",
    "plt.show()"
   ]
  },
  {
   "cell_type": "markdown",
   "metadata": {},
   "source": [
    "## Single Photon Unheralded"
   ]
  },
  {
   "cell_type": "code",
   "execution_count": 41,
   "metadata": {},
   "outputs": [
    {
     "data": {
      "application/vnd.jupyter.widget-view+json": {
       "model_id": "1d991e0a0d4e48e98feb968e3480af7f",
       "version_major": 2,
       "version_minor": 0
      },
      "text/plain": [
       "Canvas(toolbar=Toolbar(toolitems=[('Home', 'Reset original view', 'home', 'home'), ('Back', 'Back to previous …"
      ]
     },
     "metadata": {},
     "output_type": "display_data"
    }
   ],
   "source": [
    "fig, ax = plt.subplots()\n",
    "ax.plot(voltages_single_photon, coinc_rate_unheralded, marker='x', label='Gemessene Koinzidenzrate')\n",
    "\n",
    "ax.ticklabel_format(axis=\"y\", style=\"sci\", scilimits=(0,0))\n",
    "ax.set_xlabel('Piezo-Spannung [V]')\n",
    "ax.set_ylabel('Koinzidenzrate [1/ns]')\n",
    "\n",
    "ax.legend(loc='lower left', bbox_to_anchor= (0.08, 1.01), ncol=2,\n",
    "            borderaxespad=0, frameon=False)\n",
    "\n",
    "plt.savefig('plots/g1_koinzidenzrate_unheralded.pdf')  \n",
    "\n",
    "plt.show()"
   ]
  },
  {
   "cell_type": "markdown",
   "metadata": {},
   "source": [
    "## Coherent State"
   ]
  },
  {
   "cell_type": "code",
   "execution_count": 36,
   "metadata": {},
   "outputs": [
    {
     "name": "stderr",
     "output_type": "stream",
     "text": [
      "100%|██████████| 172/172 [03:39<00:00,  1.28s/it]\n"
     ]
    }
   ],
   "source": [
    "data_dir = 'measurements/g1_correlation_function/coherent/'\n",
    "\n",
    "voltages_coherent = np.array([])\n",
    "coinc_rate_coherent = np.array([], dtype=np.float64)\n",
    "\n",
    "coinc_window = 5000\n",
    "\n",
    "for file_name in tqdm.tqdm(os.listdir(data_dir)):\n",
    "    \n",
    "    base_name, ext = os.path.splitext(file_name)\n",
    "    if ext != '.csv':\n",
    "        continue\n",
    "    \n",
    "    # load voltage g1_XX_XX\n",
    "    voltages_coherent = np.append(voltages_coherent, float(base_name.split('_')[1]) + float(base_name.split('_')[2])/100)\n",
    "    \n",
    "    sync, time = read_csv(os.path.join(data_dir, file_name))\n",
    "    \n",
    "    total_time = time[-1]\n",
    "    \n",
    "    coinc_rate_coherent = np.append(coinc_rate_coherent, np.sum(np.where(sync == 1, 1, 0))/(total_time*1e-3))"
   ]
  },
  {
   "cell_type": "code",
   "execution_count": 42,
   "metadata": {},
   "outputs": [
    {
     "data": {
      "application/vnd.jupyter.widget-view+json": {
       "model_id": "ec420ba50f6a48fe928a5d870836546f",
       "version_major": 2,
       "version_minor": 0
      },
      "text/plain": [
       "Canvas(toolbar=Toolbar(toolitems=[('Home', 'Reset original view', 'home', 'home'), ('Back', 'Back to previous …"
      ]
     },
     "metadata": {},
     "output_type": "display_data"
    }
   ],
   "source": [
    "fig, ax = plt.subplots()\n",
    "ax.plot(voltages_coherent, coinc_rate_coherent, marker='x', label='Gemessene Koinzidenzrate')\n",
    "\n",
    "ax.ticklabel_format(axis=\"y\", style=\"sci\", scilimits=(0,0))\n",
    "ax.set_xlabel('Piezo-Spannung [V]')\n",
    "ax.set_ylabel('Koinzidenzrate [1/ns]')\n",
    "\n",
    "ax.legend(loc='lower left', bbox_to_anchor= (0.08, 1.01), ncol=2,\n",
    "            borderaxespad=0, frameon=False)\n",
    "\n",
    "plt.savefig('plots/koinzidenzrate_coherent.pdf') \n",
    "\n",
    "plt.show()"
   ]
  },
  {
   "cell_type": "code",
   "execution_count": null,
   "metadata": {},
   "outputs": [],
   "source": []
  }
 ],
 "metadata": {
  "kernelspec": {
   "display_name": "Python 3",
   "language": "python",
   "name": "python3"
  },
  "language_info": {
   "codemirror_mode": {
    "name": "ipython",
    "version": 3
   },
   "file_extension": ".py",
   "mimetype": "text/x-python",
   "name": "python",
   "nbconvert_exporter": "python",
   "pygments_lexer": "ipython3",
   "version": "3.7.6"
  }
 },
 "nbformat": 4,
 "nbformat_minor": 4
}
