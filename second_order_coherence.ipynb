{
 "cells": [
  {
   "cell_type": "code",
   "execution_count": 6,
   "metadata": {},
   "outputs": [],
   "source": [
    "import numpy as np\n",
    "from utils.data_loading import read_csv\n",
    "from modules.coincidence_counts import count_coincidences\n",
    "from modules.coincidence_counts import find_closest_event_index"
   ]
  },
  {
   "cell_type": "code",
   "execution_count": 7,
   "metadata": {},
   "outputs": [],
   "source": [
    "import matplotlib.pyplot as plt\n",
    "plt.rcParams['figure.figsize'] = [10, 5]\n",
    "plt.rcParams.update({'figure.max_open_warning': 0})\n",
    "%matplotlib widget"
   ]
  },
  {
   "cell_type": "markdown",
   "metadata": {},
   "source": [
    "# Measurement of the second order correlation function"
   ]
  },
  {
   "cell_type": "code",
   "execution_count": 8,
   "metadata": {},
   "outputs": [],
   "source": [
    "sync, time = read_csv('measurements/g2_correlation_function/full_SinglePhoton_g2_workspace.csv')"
   ]
  },
  {
   "cell_type": "code",
   "execution_count": 9,
   "metadata": {},
   "outputs": [],
   "source": [
    "from numba import jit\n",
    "\n",
    "@jit(nopython=True)\n",
    "def g2_heralded(time_arr, sync_arr, coinc_window, tau_max, tau_bin_size, gate_id=1, lead_id=2, lag_id=3):\n",
    "\n",
    "    tau_arr = np.arange(-tau_max, tau_max+tau_bin_size, tau_bin_size)\n",
    "\n",
    "    N_A = np.where(sync_arr == gate_id, 1, 0).sum()\n",
    "    N_AB = count_coincidences(\n",
    "        time_arr, sync_arr, coinc_window, channel_1_id=gate_id, channel_2_id=lead_id)\n",
    "    N_AC = count_coincidences(\n",
    "        time_arr, sync_arr, coinc_window, channel_1_id=gate_id, channel_2_id=lag_id)\n",
    "\n",
    "    total_time = time_arr[-1]\n",
    "\n",
    "    g2 = []\n",
    "\n",
    "    for tau in tau_arr:\n",
    "\n",
    "        coinc_counter = 0\n",
    "        \n",
    "        for index, event in enumerate(sync_arr):\n",
    "            if event != gate_id:\n",
    "                continue\n",
    "                \n",
    "            gate_event_time = time_arr[index]\n",
    "            \n",
    "            closest_lead_index, dt_lead = find_closest_event_index(time_arr, sync_arr, index, lead_id)\n",
    "\n",
    "            if dt_lead > coinc_window/2:\n",
    "                continue\n",
    "                \n",
    "            coinc_found = False\n",
    "            \n",
    "            # Search backwards (at times before Gate event).\n",
    "            search_index = index - 1\n",
    "            while search_index > 0 and gate_event_time - time_arr[search_index] <= coinc_window/2 + tau_max + tau_bin_size:\n",
    "                if sync_arr[search_index] == lag_id:                    \n",
    "                    if gate_event_time + tau - tau_bin_size/2 <= time_arr[search_index] <= gate_event_time + tau + tau_bin_size/2:\n",
    "                        coinc_found = True\n",
    "                        break\n",
    "                        \n",
    "                search_index -= 1\n",
    "    \n",
    "            \n",
    "            # Search forward\n",
    "            search_index = index + 1\n",
    "            while search_index <= len(sync_arr) and time_arr[search_index] - gate_event_time <= coinc_window/2 + tau_max + tau_bin_size:\n",
    "                if sync_arr[search_index] == lag_id:\n",
    "                    if gate_event_time + tau - tau_bin_size/2 <= time_arr[search_index] <= gate_event_time + tau + tau_bin_size/2:\n",
    "                        coinc_found = True\n",
    "                        break\n",
    "                    \n",
    "                search_index += 1\n",
    "            \n",
    "            if coinc_found:\n",
    "                coinc_counter += 1\n",
    "                                \n",
    "        g2.append(coinc_counter*N_A/(N_AB*N_AC)*total_time/coinc_window**2/tau_bin_size)\n",
    "\n",
    "    return g2, tau_arr"
   ]
  },
  {
   "cell_type": "code",
   "execution_count": 10,
   "metadata": {},
   "outputs": [],
   "source": [
    "coinc_window = 5000\n",
    "g2, tau = g2_heralded(time, sync, coinc_window, 2*coinc_window, coinc_window, gate_id=1, lead_id=2, lag_id=3)"
   ]
  },
  {
   "cell_type": "code",
   "execution_count": 11,
   "metadata": {},
   "outputs": [
    {
     "data": {
      "application/vnd.jupyter.widget-view+json": {
       "model_id": "d5e81220126944f7af3432f5fe70c666",
       "version_major": 2,
       "version_minor": 0
      },
      "text/plain": [
       "Canvas(toolbar=Toolbar(toolitems=[('Home', 'Reset original view', 'home', 'home'), ('Back', 'Back to previous …"
      ]
     },
     "metadata": {},
     "output_type": "display_data"
    }
   ],
   "source": [
    "fig, ax = plt.subplots()\n",
    "ax.plot(tau, g2)\n",
    "\n",
    "ax.set_xlabel('tau [ps]')\n",
    "ax.set_ylabel('g2(tau)') \n",
    "\n",
    "plt.show()"
   ]
  },
  {
   "cell_type": "markdown",
   "metadata": {},
   "source": [
    "## Coherent State"
   ]
  },
  {
   "cell_type": "code",
   "execution_count": null,
   "metadata": {},
   "outputs": [],
   "source": []
  }
 ],
 "metadata": {
  "kernelspec": {
   "display_name": "Python 3",
   "language": "python",
   "name": "python3"
  },
  "language_info": {
   "codemirror_mode": {
    "name": "ipython",
    "version": 3
   },
   "file_extension": ".py",
   "mimetype": "text/x-python",
   "name": "python",
   "nbconvert_exporter": "python",
   "pygments_lexer": "ipython3",
   "version": "3.7.6"
  }
 },
 "nbformat": 4,
 "nbformat_minor": 4
}
