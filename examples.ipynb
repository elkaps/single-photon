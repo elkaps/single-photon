{
 "cells": [
  {
   "cell_type": "code",
   "execution_count": 1,
   "metadata": {},
   "outputs": [],
   "source": [
    "# !conda install -c conda-forge ipympl\n",
    "\n",
    "# If using JupyterLab\n",
    "# !conda install -c conda-forge nodejs\n",
    "# !jupyter labextension install @jupyter-widgets/jupyterlab-manager jupyter-matplotlib"
   ]
  },
  {
   "cell_type": "code",
   "execution_count": 2,
   "metadata": {},
   "outputs": [],
   "source": [
    "import numpy as np\n",
    "from utils.data_loading import read_csv\n",
    "from modules.coincidence_counts import count_coincidences"
   ]
  },
  {
   "cell_type": "code",
   "execution_count": 3,
   "metadata": {},
   "outputs": [],
   "source": [
    "import matplotlib.pyplot as plt\n",
    "plt.rcParams['figure.figsize'] = [10, 5]\n",
    "%matplotlib widget"
   ]
  },
  {
   "cell_type": "markdown",
   "metadata": {},
   "source": [
    "# Characterization of the single photon source"
   ]
  },
  {
   "cell_type": "markdown",
   "metadata": {},
   "source": [
    "## Coincidence counts as a function of coincidence window width"
   ]
  },
  {
   "cell_type": "code",
   "execution_count": 4,
   "metadata": {},
   "outputs": [],
   "source": [
    "sync, time = read_csv('measurements/coincidence_counts/window_width/5_2_1_window_width.csv')"
   ]
  },
  {
   "cell_type": "code",
   "execution_count": 5,
   "metadata": {},
   "outputs": [
    {
     "data": {
      "text/plain": [
       "array([1255892., 2579582., 2636980., 3260015., 3903854., 4019483.,\n",
       "       4908083., 4987669., 6296538., 6653431.])"
      ]
     },
     "execution_count": 5,
     "metadata": {},
     "output_type": "execute_result"
    }
   ],
   "source": [
    "# time includes the timestamp of each event\n",
    "time[0:10]"
   ]
  },
  {
   "cell_type": "code",
   "execution_count": 6,
   "metadata": {},
   "outputs": [
    {
     "name": "stdout",
     "output_type": "stream",
     "text": [
      "total measurement time: 14.999998040321 s\n"
     ]
    }
   ],
   "source": [
    "total_time = time[-1]\n",
    "print('total measurement time: {} s'.format(total_time*1e-12))"
   ]
  },
  {
   "cell_type": "code",
   "execution_count": 7,
   "metadata": {},
   "outputs": [
    {
     "data": {
      "text/plain": [
       "array([1., 1., 2., 1., 2., 1., 2., 1., 2., 2.])"
      ]
     },
     "execution_count": 7,
     "metadata": {},
     "output_type": "execute_result"
    }
   ],
   "source": [
    "# sync contains the channel id\n",
    "sync[0:10]"
   ]
  },
  {
   "cell_type": "code",
   "execution_count": 8,
   "metadata": {},
   "outputs": [],
   "source": [
    "coinc_windows = np.arange(0, 5000, 100)\n",
    "coinc_windows = np.append(coinc_windows, np.arange(5000, 85000, 5000))\n",
    "\n",
    "coinc_rate = np.array([], dtype=np.float64)\n",
    "accidental_coinc_rate = np.array([], dtype=np.float64)\n",
    "\n",
    "for coinc_window in coinc_windows:\n",
    "    coinc_rate = np.append(coinc_rate, count_coincidences(time, sync, coinc_window=coinc_window)/(total_time*1e-3))\n",
    "    accidental_coinc_rate = np.append(accidental_coinc_rate, coinc_window*1e-3*np.sum(np.where(sync == 1, 1, 0))*np.sum(np.where(sync == 2, 1, 0))/(total_time*1e-3)**2)"
   ]
  },
  {
   "cell_type": "code",
   "execution_count": 9,
   "metadata": {},
   "outputs": [
    {
     "data": {
      "application/vnd.jupyter.widget-view+json": {
       "model_id": "e1c5f7b75e5f49d8a15109c2c2ac0deb",
       "version_major": 2,
       "version_minor": 0
      },
      "text/plain": [
       "Canvas(toolbar=Toolbar(toolitems=[('Home', 'Reset original view', 'home', 'home'), ('Back', 'Back to previous …"
      ]
     },
     "metadata": {},
     "output_type": "display_data"
    }
   ],
   "source": [
    "fig, ax = plt.subplots()\n",
    "ax.scatter(coinc_windows/1000, coinc_rate, marker='+')\n",
    "ax.scatter(coinc_windows/1000, accidental_coinc_rate, marker='x')\n",
    "\n",
    "\n",
    "ax.ticklabel_format(axis=\"y\", style=\"sci\", scilimits=(0,0))\n",
    "ax.set_xlabel('Coincidence window [ns]')\n",
    "ax.set_ylabel('Coincidence rate [1/ns]') \n",
    "\n",
    "plt.show()"
   ]
  },
  {
   "cell_type": "markdown",
   "metadata": {},
   "source": [
    "## Coincidence counts as a function of pump power"
   ]
  },
  {
   "cell_type": "code",
   "execution_count": 10,
   "metadata": {},
   "outputs": [],
   "source": [
    "voltages = {0.2:\"V0020.csv\", 0.39:\"V0390.csv\", 0.8:\"V0800.csv\", 1.2:\"V120.csv\", 1.61:\"V161.csv\"}\n",
    "\n",
    "coinc_rate = np.array([], dtype=np.float64)\n",
    "accidental_coinc_rate = np.array([], dtype=np.float64)\n",
    "\n",
    "coinc_window = 5000\n",
    "\n",
    "for file in voltages.values():\n",
    "    sync, time = read_csv('measurements/coincidence_counts/pump_power/5_2_1_'+file)\n",
    "    coinc_rate = np.append(coinc_rate, count_coincidences(time, sync, coinc_window=coinc_window)/(total_time*1e-3))\n",
    "    accidental_coinc_rate = np.append(accidental_coinc_rate, coinc_window*1e-3*np.sum(np.where(sync == 1, 1, 0))*np.sum(np.where(sync == 2, 1, 0))/(total_time*1e-3)**2)    "
   ]
  },
  {
   "cell_type": "code",
   "execution_count": 11,
   "metadata": {},
   "outputs": [
    {
     "data": {
      "application/vnd.jupyter.widget-view+json": {
       "model_id": "bdbf8991ee3441848e8c1e57e0724412",
       "version_major": 2,
       "version_minor": 0
      },
      "text/plain": [
       "Canvas(toolbar=Toolbar(toolitems=[('Home', 'Reset original view', 'home', 'home'), ('Back', 'Back to previous …"
      ]
     },
     "metadata": {},
     "output_type": "display_data"
    }
   ],
   "source": [
    "fig, ax = plt.subplots()\n",
    "color = 'tab:red'\n",
    "ax.scatter(voltages.keys(), coinc_rate, marker='+', color=color)\n",
    "ax.ticklabel_format(axis=\"y\", style=\"sci\", scilimits=(0,0))\n",
    "ax.tick_params(axis='y', labelcolor=color)\n",
    "ax.set_xlabel('Spannung [V]')\n",
    "ax.set_ylabel('Koinzidenzrate [1/ns]') \n",
    "\n",
    "color = 'tab:blue'\n",
    "ax_2 = ax.twinx()\n",
    "ax_2.set_ylabel('Zufällige Koinzidenzrate [1/ns]')\n",
    "ax_2.scatter(voltages.keys(), accidental_coinc_rate, marker='x', color=color)\n",
    "ax_2.tick_params(axis='y', labelcolor=color)\n",
    "fig.tight_layout()\n",
    "\n",
    "plt.show()"
   ]
  },
  {
   "cell_type": "markdown",
   "metadata": {},
   "source": [
    "## Coincidence counts as a function of pump polarization"
   ]
  },
  {
   "cell_type": "code",
   "execution_count": 15,
   "metadata": {},
   "outputs": [],
   "source": [
    "import os\n",
    "\n",
    "data_dir = 'measurements/coincidence_counts/pump_polarization'\n",
    "\n",
    "polarizations = np.array([])\n",
    "coinc_rate = np.array([], dtype=np.float64)\n",
    "\n",
    "coinc_window = 5000\n",
    "\n",
    "for file_name in os.listdir(data_dir):\n",
    "    \n",
    "    base_name, ext = os.path.splitext(file_name)\n",
    "    if ext != '.csv':\n",
    "        continue\n",
    "    \n",
    "    # we named each file d<degrees>.csv so we can just extract the value\n",
    "    deg = int(base_name.split('d')[-1])\n",
    "    \n",
    "    polarizations = np.append(polarizations, deg)\n",
    "    \n",
    "    sync, time = read_csv(os.path.join(data_dir, file_name))\n",
    "    coinc_rate = np.append(coinc_rate, count_coincidences(time, sync, coinc_window=coinc_window)/(total_time*1e-3))"
   ]
  },
  {
   "cell_type": "code",
   "execution_count": 20,
   "metadata": {},
   "outputs": [
    {
     "data": {
      "application/vnd.jupyter.widget-view+json": {
       "model_id": "4702f045cb674dc88a7f8d98619757d4",
       "version_major": 2,
       "version_minor": 0
      },
      "text/plain": [
       "Canvas(toolbar=Toolbar(toolitems=[('Home', 'Reset original view', 'home', 'home'), ('Back', 'Back to previous …"
      ]
     },
     "metadata": {},
     "output_type": "display_data"
    }
   ],
   "source": [
    "fig, ax = plt.subplots()\n",
    "ax.plot(polarizations, coinc_rate, linestyle='--', marker='o')\n",
    "\n",
    "ax.ticklabel_format(axis=\"y\", style=\"sci\", scilimits=(0,0))\n",
    "ax.set_xlabel('Rotation angle')\n",
    "ax.set_ylabel('Coincidence rate [1/ns]') \n",
    "\n",
    "plt.show()"
   ]
  },
  {
   "cell_type": "markdown",
   "metadata": {},
   "source": [
    "# Measurement of the first order correlation function"
   ]
  },
  {
   "cell_type": "markdown",
   "metadata": {},
   "source": [
    "## Single Photon Heralded"
   ]
  },
  {
   "cell_type": "code",
   "execution_count": 42,
   "metadata": {},
   "outputs": [
    {
     "name": "stderr",
     "output_type": "stream",
     "text": [
      "100%|██████████| 260/260 [06:27<00:00,  1.49s/it]\n"
     ]
    }
   ],
   "source": [
    "import tqdm\n",
    "\n",
    "data_dir = 'measurements/g1_correlation_function/single_photon/'\n",
    "\n",
    "voltages = np.array([])\n",
    "coinc_rate = np.array([], dtype=np.float64)\n",
    "coinc_rate_unheralded = np.array([], dtype=np.float64)\n",
    "\n",
    "coinc_window = 5000\n",
    "\n",
    "for file_name in tqdm.tqdm(os.listdir(data_dir)):\n",
    "    \n",
    "    base_name, ext = os.path.splitext(file_name)\n",
    "    if ext != '.csv':\n",
    "        continue\n",
    "    \n",
    "    # load voltage g1_XX_XX\n",
    "    voltages = np.append(voltages, float(base_name.split('_')[1]) + float(base_name.split('_')[2])/100)\n",
    "    \n",
    "    sync, time = read_csv(os.path.join(data_dir, file_name))\n",
    "    coinc_rate = np.append(coinc_rate, count_coincidences(time, sync, coinc_window=coinc_window)/(total_time*1e-3))\n",
    "    \n",
    "    coinc_rate_unheralded = np.append(coinc_rate_unheralded, np.sum(np.where(sync == 1, 1, 0))/(total_time*1e-3))"
   ]
  },
  {
   "cell_type": "code",
   "execution_count": 43,
   "metadata": {},
   "outputs": [
    {
     "data": {
      "application/vnd.jupyter.widget-view+json": {
       "model_id": "fa351d9776a04faf8ab8733ee2037e33",
       "version_major": 2,
       "version_minor": 0
      },
      "text/plain": [
       "Canvas(toolbar=Toolbar(toolitems=[('Home', 'Reset original view', 'home', 'home'), ('Back', 'Back to previous …"
      ]
     },
     "metadata": {},
     "output_type": "display_data"
    }
   ],
   "source": [
    "fig, ax = plt.subplots()\n",
    "ax.plot(voltages, coinc_rate)\n",
    "\n",
    "ax.ticklabel_format(axis=\"y\", style=\"sci\", scilimits=(0,0))\n",
    "ax.set_xlabel('Voltage [V]')\n",
    "ax.set_ylabel('Coincidence rate [1/ns]')\n",
    "\n",
    "plt.show()"
   ]
  },
  {
   "cell_type": "markdown",
   "metadata": {},
   "source": [
    "## Single Photon Heralded"
   ]
  },
  {
   "cell_type": "code",
   "execution_count": 44,
   "metadata": {},
   "outputs": [
    {
     "data": {
      "application/vnd.jupyter.widget-view+json": {
       "model_id": "6ab8ef6c381b46eea15aa2bddfb0132a",
       "version_major": 2,
       "version_minor": 0
      },
      "text/plain": [
       "Canvas(toolbar=Toolbar(toolitems=[('Home', 'Reset original view', 'home', 'home'), ('Back', 'Back to previous …"
      ]
     },
     "metadata": {},
     "output_type": "display_data"
    }
   ],
   "source": [
    "fig, ax = plt.subplots()\n",
    "ax.plot(voltages, coinc_rate_unheralded)\n",
    "\n",
    "ax.ticklabel_format(axis=\"y\", style=\"sci\", scilimits=(0,0))\n",
    "ax.set_xlabel('Voltage [V]')\n",
    "ax.set_ylabel('Coincidence rate [1/ns]') \n",
    "\n",
    "plt.show()"
   ]
  },
  {
   "cell_type": "markdown",
   "metadata": {},
   "source": [
    "## Coherent State"
   ]
  },
  {
   "cell_type": "code",
   "execution_count": 45,
   "metadata": {},
   "outputs": [
    {
     "name": "stderr",
     "output_type": "stream",
     "text": [
      "100%|██████████| 172/172 [03:35<00:00,  1.25s/it]\n"
     ]
    }
   ],
   "source": [
    "data_dir = 'measurements/g1_correlation_function/coherent/'\n",
    "\n",
    "voltages = np.array([])\n",
    "coinc_rate = np.array([], dtype=np.float64)\n",
    "\n",
    "coinc_window = 5000\n",
    "\n",
    "for file_name in tqdm.tqdm(os.listdir(data_dir)):\n",
    "    \n",
    "    base_name, ext = os.path.splitext(file_name)\n",
    "    if ext != '.csv':\n",
    "        continue\n",
    "    \n",
    "    # load voltage g1_XX_XX\n",
    "    voltages = np.append(voltages, float(base_name.split('_')[1]) + float(base_name.split('_')[2])/100)\n",
    "    \n",
    "    sync, time = read_csv(os.path.join(data_dir, file_name))\n",
    "    coinc_rate = np.append(coinc_rate, np.sum(np.where(sync == 1, 1, 0))/(total_time*1e-3))"
   ]
  },
  {
   "cell_type": "code",
   "execution_count": 51,
   "metadata": {},
   "outputs": [
    {
     "name": "stderr",
     "output_type": "stream",
     "text": [
      "/opt/conda/lib/python3.7/site-packages/ipykernel_launcher.py:1: RuntimeWarning: More than 20 figures have been opened. Figures created through the pyplot interface (`matplotlib.pyplot.figure`) are retained until explicitly closed and may consume too much memory. (To control this warning, see the rcParam `figure.max_open_warning`).\n",
      "  \"\"\"Entry point for launching an IPython kernel.\n"
     ]
    },
    {
     "data": {
      "application/vnd.jupyter.widget-view+json": {
       "model_id": "0fa7a7b2d7f447c6ab8cd478c9d30dc9",
       "version_major": 2,
       "version_minor": 0
      },
      "text/plain": [
       "Canvas(toolbar=Toolbar(toolitems=[('Home', 'Reset original view', 'home', 'home'), ('Back', 'Back to previous …"
      ]
     },
     "metadata": {},
     "output_type": "display_data"
    }
   ],
   "source": [
    "fig, ax = plt.subplots()\n",
    "ax.plot(voltages, coinc_rate)\n",
    "\n",
    "ax.ticklabel_format(axis=\"y\", style=\"sci\", scilimits=(0,0))\n",
    "ax.set_xlabel('Voltage [V]')\n",
    "ax.set_ylabel('Coincidence rate [1/ns]') \n",
    "\n",
    "plt.show()"
   ]
  },
  {
   "cell_type": "code",
   "execution_count": null,
   "metadata": {},
   "outputs": [],
   "source": []
  }
 ],
 "metadata": {
  "kernelspec": {
   "display_name": "Python 3",
   "language": "python",
   "name": "python3"
  },
  "language_info": {
   "codemirror_mode": {
    "name": "ipython",
    "version": 3
   },
   "file_extension": ".py",
   "mimetype": "text/x-python",
   "name": "python",
   "nbconvert_exporter": "python",
   "pygments_lexer": "ipython3",
   "version": "3.7.6"
  }
 },
 "nbformat": 4,
 "nbformat_minor": 4
}
