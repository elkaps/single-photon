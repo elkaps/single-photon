{
 "cells": [
  {
   "cell_type": "code",
   "execution_count": 1,
   "metadata": {},
   "outputs": [],
   "source": [
    "# !conda install -c conda-forge ipympl\n",
    "\n",
    "# If using JupyterLab\n",
    "#!conda install -c conda-forge nodejs\n",
    "#!jupyter labextension install @jupyter-widgets/jupyterlab-manager jupyter-matplotlib"
   ]
  },
  {
   "cell_type": "code",
   "execution_count": null,
   "metadata": {},
   "outputs": [],
   "source": [
    "import numpy as np\n",
    "from utils.data_loading import read_csv\n",
    "from modules.coincidence_counts import count_coincidences"
   ]
  },
  {
   "cell_type": "code",
   "execution_count": null,
   "metadata": {},
   "outputs": [],
   "source": [
    "import matplotlib.pyplot as plt\n",
    "plt.rcParams['figure.figsize'] = [10, 5]\n",
    "plt.rcParams.update({'figure.max_open_warning': 0})\n",
    "plt.rcParams.update({'font.size': 14})\n",
    "%matplotlib widget"
   ]
  },
  {
   "cell_type": "markdown",
   "metadata": {},
   "source": [
    "# Characterization of the single photon source"
   ]
  },
  {
   "cell_type": "markdown",
   "metadata": {},
   "source": [
    "## Coincidence counts as a function of coincidence window width"
   ]
  },
  {
   "cell_type": "code",
   "execution_count": 4,
   "metadata": {},
   "outputs": [],
   "source": [
    "sync, time = read_csv('measurements/coincidence_counts/window_width/5_2_1_window_width.csv')"
   ]
  },
  {
   "cell_type": "code",
   "execution_count": 5,
   "metadata": {},
   "outputs": [
    {
     "data": {
      "text/plain": [
       "array([1255892, 2579582, 2636980, 3260015, 3903854, 4019483, 4908083,\n",
       "       4987669, 6296538, 6653431], dtype=uint64)"
      ]
     },
     "execution_count": 5,
     "metadata": {},
     "output_type": "execute_result"
    }
   ],
   "source": [
    "# time includes the timestamp of each event\n",
    "time[0:10]"
   ]
  },
  {
   "cell_type": "code",
   "execution_count": 6,
   "metadata": {},
   "outputs": [
    {
     "name": "stdout",
     "output_type": "stream",
     "text": [
      "total measurement time: 14.999998040321 s\n"
     ]
    }
   ],
   "source": [
    "total_time = time[-1]\n",
    "print('total measurement time: {} s'.format(total_time*1e-12))"
   ]
  },
  {
   "cell_type": "code",
   "execution_count": 7,
   "metadata": {},
   "outputs": [
    {
     "data": {
      "text/plain": [
       "array([1, 1, 2, 1, 2, 1, 2, 1, 2, 2], dtype=uint8)"
      ]
     },
     "execution_count": 7,
     "metadata": {},
     "output_type": "execute_result"
    }
   ],
   "source": [
    "# sync contains the channel id\n",
    "sync[0:10]"
   ]
  },
  {
   "cell_type": "code",
   "execution_count": 8,
   "metadata": {},
   "outputs": [],
   "source": [
    "coinc_windows = np.arange(0, 1e4, 1e3)\n",
    "coinc_windows = np.append(coinc_windows, np.arange(1e4, 85000, 2e4))\n",
    "\n",
    "coinc_rate = np.array([], dtype=np.float64)\n",
    "accidental_coinc_rate = np.array([], dtype=np.float64)\n",
    "\n",
    "for coinc_window in coinc_windows:\n",
    "    coinc_rate = np.append(coinc_rate, count_coincidences(time, sync, coinc_window=coinc_window)/(total_time*1e-3))\n",
    "    accidental_coinc_rate = np.append(accidental_coinc_rate, coinc_window*1e-3*np.sum(np.where(sync == 1, 1, 0))*np.sum(np.where(sync == 2, 1, 0))/(total_time*1e-3)**2)"
   ]
  },
  {
   "cell_type": "code",
   "execution_count": 9,
   "metadata": {},
   "outputs": [
    {
     "data": {
      "application/vnd.jupyter.widget-view+json": {
       "model_id": "eda76512c8714871996d5b2ab8dd8c61",
       "version_major": 2,
       "version_minor": 0
      },
      "text/plain": [
       "Canvas(toolbar=Toolbar(toolitems=[('Home', 'Reset original view', 'home', 'home'), ('Back', 'Back to previous …"
      ]
     },
     "metadata": {},
     "output_type": "display_data"
    }
   ],
   "source": [
    "fig, ax = plt.subplots()\n",
    "ax.scatter(coinc_windows/1000, coinc_rate, marker='+', label='Koinzidenzrate')\n",
    "ax.scatter(coinc_windows/1000, accidental_coinc_rate, marker='x', label='Rate der zufälligen Koinzidenz')\n",
    "\n",
    "ax.ticklabel_format(axis=\"y\", style=\"sci\", scilimits=(0,0))\n",
    "ax.legend(loc='lower right')\n",
    "\n",
    "ax.set_xlabel('Koinzidenzzeitfenster [ns]')\n",
    "ax.set_ylabel('Koinzidenzrate [1/ns]')\n",
    "\n",
    "plt.savefig('plots/koinzidenzzeitfenster.pdf')  \n",
    "\n",
    "ax.legend(loc='lower left', bbox_to_anchor= (0.08, 1.01), ncol=2,\n",
    "            borderaxespad=0, frameon=False)\n",
    "\n",
    "ax.axhline(0, alpha=0.5, linestyle='dotted')\n",
    "ax.axvline(0, alpha=0.5, linestyle='dotted')\n",
    "\n",
    "plt.show()"
   ]
  },
  {
   "cell_type": "markdown",
   "metadata": {},
   "source": [
    "## Coincidence counts as a function of pump power"
   ]
  },
  {
   "cell_type": "code",
   "execution_count": 10,
   "metadata": {},
   "outputs": [],
   "source": [
    "voltages = {0.2:\"V0020.csv\", 0.39:\"V0390.csv\", 0.8:\"V0800.csv\", 1.2:\"V120.csv\", 1.61:\"V161.csv\"}\n",
    "\n",
    "coinc_rate = np.array([], dtype=np.float64)\n",
    "accidental_coinc_rate = np.array([], dtype=np.float64)\n",
    "\n",
    "coinc_window = 5000\n",
    "\n",
    "for file in voltages.values():\n",
    "    sync, time = read_csv('measurements/coincidence_counts/pump_power/5_2_1_'+file)\n",
    "    \n",
    "    total_time = time[-1]\n",
    "    \n",
    "    coinc_rate = np.append(coinc_rate, count_coincidences(time, sync, coinc_window=coinc_window)/(total_time*1e-3))\n",
    "    accidental_coinc_rate = np.append(accidental_coinc_rate, coinc_window*1e-3*np.sum(np.where(sync == 1, 1, 0))*np.sum(np.where(sync == 2, 1, 0))/(total_time*1e-3)**2)    "
   ]
  },
  {
   "cell_type": "code",
   "execution_count": 11,
   "metadata": {},
   "outputs": [
    {
     "data": {
      "application/vnd.jupyter.widget-view+json": {
       "model_id": "ae451d163bab4fde9477ee88abf42220",
       "version_major": 2,
       "version_minor": 0
      },
      "text/plain": [
       "Canvas(toolbar=Toolbar(toolitems=[('Home', 'Reset original view', 'home', 'home'), ('Back', 'Back to previous …"
      ]
     },
     "metadata": {},
     "output_type": "display_data"
    }
   ],
   "source": [
    "fig, ax = plt.subplots()\n",
    "color = 'tab:red'\n",
    "ax.scatter(voltages.keys(), coinc_rate, marker='+', color=color)\n",
    "ax.ticklabel_format(axis=\"y\", style=\"sci\", scilimits=(0,0))\n",
    "ax.tick_params(axis='y', labelcolor=color)\n",
    "ax.set_xlabel('Spannung [V]')\n",
    "ax.set_ylabel('Koinzidenzrate [1/ns]') \n",
    "\n",
    "color = 'tab:blue'\n",
    "ax_2 = ax.twinx()\n",
    "ax_2.set_ylabel('Zufällige Koinzidenzrate [1/ns]')\n",
    "ax_2.scatter(voltages.keys(), accidental_coinc_rate, marker='x', color=color)\n",
    "ax_2.tick_params(axis='y', labelcolor=color)\n",
    "fig.tight_layout()\n",
    "\n",
    "plt.show()"
   ]
  },
  {
   "cell_type": "code",
   "execution_count": 12,
   "metadata": {},
   "outputs": [
    {
     "data": {
      "application/vnd.jupyter.widget-view+json": {
       "model_id": "14b1fdee79414bc29fa4ecd335f99a59",
       "version_major": 2,
       "version_minor": 0
      },
      "text/plain": [
       "Canvas(toolbar=Toolbar(toolitems=[('Home', 'Reset original view', 'home', 'home'), ('Back', 'Back to previous …"
      ]
     },
     "metadata": {},
     "output_type": "display_data"
    }
   ],
   "source": [
    "fig, ax = plt.subplots(figsize=(8, 10))\n",
    "color = 'tab:red'\n",
    "ax.scatter(voltages.keys(), coinc_rate, marker='+', color=color, label='Gemessene Koinzidenzrate')\n",
    "ax.set_xlabel('Spannung [V]')\n",
    "ax.set_ylabel('Koinzidenzrate [1/ns]') \n",
    "\n",
    "color = 'tab:blue'\n",
    "ax.scatter(voltages.keys(), accidental_coinc_rate, marker='x', color=color, label='Zufällige Koinzidenzrate')\n",
    "\n",
    "ax.ticklabel_format(axis=\"y\", style=\"sci\", scilimits=(0,0))\n",
    "\n",
    "ax.axhline(0, alpha=0.5, linestyle='dotted')\n",
    "ax.axvline(0, alpha=0.5, linestyle='dotted')\n",
    "ax.legend(loc='lower left', bbox_to_anchor= (0.08, 1.01), ncol=2, borderaxespad=0, frameon=False)\n",
    "\n",
    "plt.savefig('plots/Pump_power_vs_counts.pdf')  \n",
    "\n",
    "plt.show()"
   ]
  },
  {
   "cell_type": "markdown",
   "metadata": {},
   "source": [
    "## Coincidence counts as a function of pump polarization"
   ]
  },
  {
   "cell_type": "code",
   "execution_count": 13,
   "metadata": {},
   "outputs": [],
   "source": [
    "import os\n",
    "\n",
    "data_dir = 'measurements/coincidence_counts/pump_polarization'\n",
    "\n",
    "polarizations = np.array([])\n",
    "coinc_rate = np.array([], dtype=np.float64)\n",
    "\n",
    "coinc_window = 5000\n",
    "\n",
    "for file_name in os.listdir(data_dir):\n",
    "    \n",
    "    base_name, ext = os.path.splitext(file_name)\n",
    "    if ext != '.csv':\n",
    "        continue\n",
    "    \n",
    "    # we named each file d<degrees>.csv so we can just extract the value\n",
    "    deg = int(base_name.split('d')[-1])\n",
    "    \n",
    "    polarizations = np.append(polarizations, deg)\n",
    "    \n",
    "    sync, time = read_csv(os.path.join(data_dir, file_name))\n",
    "    \n",
    "    total_time = time[-1]\n",
    "    \n",
    "    coinc_rate = np.append(coinc_rate, count_coincidences(time, sync, coinc_window=coinc_window)/(total_time*1e-3))"
   ]
  },
  {
   "cell_type": "code",
   "execution_count": 14,
   "metadata": {},
   "outputs": [
    {
     "data": {
      "application/vnd.jupyter.widget-view+json": {
       "model_id": "bfc4c5d008064c39bf218555aebf4506",
       "version_major": 2,
       "version_minor": 0
      },
      "text/plain": [
       "Canvas(toolbar=Toolbar(toolitems=[('Home', 'Reset original view', 'home', 'home'), ('Back', 'Back to previous …"
      ]
     },
     "metadata": {},
     "output_type": "display_data"
    }
   ],
   "source": [
    "fig, ax = plt.subplots()\n",
    "ax.scatter(polarizations, coinc_rate, marker='+', label='Koinzidenzrate')\n",
    "\n",
    "ax.ticklabel_format(axis=\"y\", style=\"sci\", scilimits=(0,0))\n",
    "ax.set_xlabel('Rotationswinkel')\n",
    "ax.set_ylabel('Koinzidenzrate [1/ns]') \n",
    "\n",
    "ax.legend(loc='lower left', bbox_to_anchor= (0.08, 1.01), ncol=2,\n",
    "            borderaxespad=0, frameon=False)\n",
    "plt.show()"
   ]
  },
  {
   "cell_type": "code",
   "execution_count": 15,
   "metadata": {},
   "outputs": [],
   "source": [
    "from scipy.optimize import curve_fit\n",
    "def sin(x, a, b, c, d):\n",
    "    return a + b * np.sin(c * x + d)"
   ]
  },
  {
   "cell_type": "code",
   "execution_count": 16,
   "metadata": {},
   "outputs": [],
   "source": [
    "params, params_covariance = curve_fit(sin, polarizations, coinc_rate, bounds=([0.5e-5, 1e-5, 0.01, 0], [1e4, 1.5e-4, 0.1, np.pi]))"
   ]
  },
  {
   "cell_type": "code",
   "execution_count": 17,
   "metadata": {},
   "outputs": [
    {
     "data": {
      "application/vnd.jupyter.widget-view+json": {
       "model_id": "1c00940949e246a4bd90f6fb9a49b525",
       "version_major": 2,
       "version_minor": 0
      },
      "text/plain": [
       "Canvas(toolbar=Toolbar(toolitems=[('Home', 'Reset original view', 'home', 'home'), ('Back', 'Back to previous …"
      ]
     },
     "metadata": {},
     "output_type": "display_data"
    }
   ],
   "source": [
    "fig, ax = plt.subplots()\n",
    "ax.scatter(polarizations, coinc_rate, marker='+', label='Koinzidenzrate')\n",
    "\n",
    "ax.ticklabel_format(axis=\"y\", style=\"sci\", scilimits=(0,0))\n",
    "ax.set_xlabel('Rotationswinkel')\n",
    "ax.set_ylabel('Koinzidenzrate [1/ns]') \n",
    "\n",
    "\n",
    "x_data = np.arange(0, polarizations[-1], 1)\n",
    "ax.plot(x_data, sin(x_data, *params), color='orange', alpha=0.5, label='Sinus Fit a={:.1g}, b={:.1g}, c={:.1g}, d={:.1g}'.format(*params))\n",
    "\n",
    "\n",
    "\n",
    "ax.legend(loc='lower left', bbox_to_anchor= (0.08, 1.01), ncol=2,\n",
    "            borderaxespad=0, frameon=False)\n",
    "\n",
    "plt.savefig('plots/Polarisation.pdf')  \n",
    "\n",
    "plt.show()\n"
   ]
  }
 ],
 "metadata": {
  "kernelspec": {
   "display_name": "Python 3",
   "language": "python",
   "name": "python3"
  },
  "language_info": {
   "codemirror_mode": {
    "name": "ipython",
    "version": 3
   },
   "file_extension": ".py",
   "mimetype": "text/x-python",
   "name": "python",
   "nbconvert_exporter": "python",
   "pygments_lexer": "ipython3",
   "version": "3.7.6"
  }
 },
 "nbformat": 4,
 "nbformat_minor": 4
}
