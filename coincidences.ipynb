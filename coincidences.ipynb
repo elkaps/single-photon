{
 "cells": [
  {
   "cell_type": "code",
   "execution_count": 1,
   "metadata": {},
   "outputs": [
    {
     "name": "stdout",
     "output_type": "stream",
     "text": [
      "Collecting package metadata (current_repodata.json): done\n",
      "Solving environment: done\n",
      "\n",
      "\n",
      "==> WARNING: A newer version of conda exists. <==\n",
      "  current version: 4.8.2\n",
      "  latest version: 4.8.3\n",
      "\n",
      "Please update conda by running\n",
      "\n",
      "    $ conda update -n base conda\n",
      "\n",
      "\n",
      "\n",
      "# All requested packages already installed.\n",
      "\n",
      "Building jupyterlab assets (build:prod:minimize)\n"
     ]
    }
   ],
   "source": [
    "# !conda install -c conda-forge ipympl\n",
    "\n",
    "# If using JupyterLab\n",
    "!conda install -c conda-forge nodejs\n",
    "!jupyter labextension install @jupyter-widgets/jupyterlab-manager jupyter-matplotlib"
   ]
  },
  {
   "cell_type": "code",
   "execution_count": 1,
   "metadata": {},
   "outputs": [],
   "source": [
    "import numpy as np\n",
    "from utils.data_loading import read_csv\n",
    "from modules.coincidence_counts import count_coincidences"
   ]
  },
  {
   "cell_type": "code",
   "execution_count": 2,
   "metadata": {},
   "outputs": [],
   "source": [
    "import matplotlib.pyplot as plt\n",
    "plt.rcParams['figure.figsize'] = [10, 5]\n",
    "plt.rcParams.update({'figure.max_open_warning': 0})\n",
    "%matplotlib widget"
   ]
  },
  {
   "cell_type": "markdown",
   "metadata": {},
   "source": [
    "# Characterization of the single photon source"
   ]
  },
  {
   "cell_type": "markdown",
   "metadata": {},
   "source": [
    "## Coincidence counts as a function of coincidence window width"
   ]
  },
  {
   "cell_type": "code",
   "execution_count": 3,
   "metadata": {},
   "outputs": [],
   "source": [
    "sync, time = read_csv('measurements/coincidence_counts/window_width/5_2_1_window_width.csv')"
   ]
  },
  {
   "cell_type": "code",
   "execution_count": 4,
   "metadata": {},
   "outputs": [
    {
     "data": {
      "text/plain": [
       "array([1255892, 2579582, 2636980, 3260015, 3903854, 4019483, 4908083,\n",
       "       4987669, 6296538, 6653431], dtype=uint64)"
      ]
     },
     "execution_count": 4,
     "metadata": {},
     "output_type": "execute_result"
    }
   ],
   "source": [
    "# time includes the timestamp of each event\n",
    "time[0:10]"
   ]
  },
  {
   "cell_type": "code",
   "execution_count": 5,
   "metadata": {},
   "outputs": [
    {
     "name": "stdout",
     "output_type": "stream",
     "text": [
      "total measurement time: 14.999998040321 s\n"
     ]
    }
   ],
   "source": [
    "total_time = time[-1]\n",
    "print('total measurement time: {} s'.format(total_time*1e-12))"
   ]
  },
  {
   "cell_type": "code",
   "execution_count": 6,
   "metadata": {},
   "outputs": [
    {
     "data": {
      "text/plain": [
       "array([1, 1, 2, 1, 2, 1, 2, 1, 2, 2], dtype=uint8)"
      ]
     },
     "execution_count": 6,
     "metadata": {},
     "output_type": "execute_result"
    }
   ],
   "source": [
    "# sync contains the channel id\n",
    "sync[0:10]"
   ]
  },
  {
   "cell_type": "code",
   "execution_count": 17,
   "metadata": {},
   "outputs": [],
   "source": [
    "coinc_windows = np.arange(0, 1e4, 1e3)\n",
    "coinc_windows = np.append(coinc_windows, np.arange(1e4, 85000, 1e4))\n",
    "\n",
    "coinc_rate = np.array([], dtype=np.float64)\n",
    "accidental_coinc_rate = np.array([], dtype=np.float64)\n",
    "\n",
    "for coinc_window in coinc_windows:\n",
    "    coinc_rate = np.append(coinc_rate, count_coincidences(time, sync, coinc_window=coinc_window)/(total_time*1e-3))\n",
    "    accidental_coinc_rate = np.append(accidental_coinc_rate, coinc_window*1e-3*np.sum(np.where(sync == 1, 1, 0))*np.sum(np.where(sync == 2, 1, 0))/(total_time*1e-3)**2)"
   ]
  },
  {
   "cell_type": "code",
   "execution_count": 18,
   "metadata": {},
   "outputs": [
    {
     "data": {
      "application/vnd.jupyter.widget-view+json": {
       "model_id": "d4bb7b3effe44bb0afed41bd2d99d326",
       "version_major": 2,
       "version_minor": 0
      },
      "text/plain": [
       "Canvas(toolbar=Toolbar(toolitems=[('Home', 'Reset original view', 'home', 'home'), ('Back', 'Back to previous …"
      ]
     },
     "metadata": {},
     "output_type": "display_data"
    }
   ],
   "source": [
    "fig, ax = plt.subplots()\n",
    "ax.scatter(coinc_windows/1000, coinc_rate, marker='+')\n",
    "ax.scatter(coinc_windows/1000, accidental_coinc_rate, marker='x')\n",
    "\n",
    "\n",
    "ax.ticklabel_format(axis=\"y\", style=\"sci\", scilimits=(0,0))\n",
    "ax.set_xlabel('Coincidence window [ns]')\n",
    "ax.set_ylabel('Coincidence rate [1/ns]') \n",
    "\n",
    "plt.show()"
   ]
  },
  {
   "cell_type": "markdown",
   "metadata": {},
   "source": [
    "## Coincidence counts as a function of pump power"
   ]
  },
  {
   "cell_type": "code",
   "execution_count": 26,
   "metadata": {},
   "outputs": [],
   "source": [
    "voltages = {0.2:\"V0020.csv\", 0.39:\"V0390.csv\", 0.8:\"V0800.csv\", 1.2:\"V120.csv\", 1.61:\"V161.csv\"}\n",
    "\n",
    "coinc_rate = np.array([], dtype=np.float64)\n",
    "accidental_coinc_rate = np.array([], dtype=np.float64)\n",
    "\n",
    "coinc_window = 5000\n",
    "\n",
    "for file in voltages.values():\n",
    "    sync, time = read_csv('measurements/coincidence_counts/pump_power/5_2_1_'+file)\n",
    "    \n",
    "    total_time = time[-1]\n",
    "    \n",
    "    coinc_rate = np.append(coinc_rate, count_coincidences(time, sync, coinc_window=coinc_window)/(total_time*1e-3))\n",
    "    accidental_coinc_rate = np.append(accidental_coinc_rate, coinc_window*1e-3*np.sum(np.where(sync == 1, 1, 0))*np.sum(np.where(sync == 2, 1, 0))/(total_time*1e-3)**2)    "
   ]
  },
  {
   "cell_type": "code",
   "execution_count": 27,
   "metadata": {},
   "outputs": [
    {
     "data": {
      "application/vnd.jupyter.widget-view+json": {
       "model_id": "524cce3ee00346d6a61a91cf1317ca82",
       "version_major": 2,
       "version_minor": 0
      },
      "text/plain": [
       "Canvas(toolbar=Toolbar(toolitems=[('Home', 'Reset original view', 'home', 'home'), ('Back', 'Back to previous …"
      ]
     },
     "metadata": {},
     "output_type": "display_data"
    }
   ],
   "source": [
    "fig, ax = plt.subplots()\n",
    "color = 'tab:red'\n",
    "ax.scatter(voltages.keys(), coinc_rate, marker='+', color=color)\n",
    "ax.ticklabel_format(axis=\"y\", style=\"sci\", scilimits=(0,0))\n",
    "ax.tick_params(axis='y', labelcolor=color)\n",
    "ax.set_xlabel('Spannung [V]')\n",
    "ax.set_ylabel('Koinzidenzrate [1/ns]') \n",
    "\n",
    "color = 'tab:blue'\n",
    "ax_2 = ax.twinx()\n",
    "ax_2.set_ylabel('Zufällige Koinzidenzrate [1/ns]')\n",
    "ax_2.scatter(voltages.keys(), accidental_coinc_rate, marker='x', color=color)\n",
    "ax_2.tick_params(axis='y', labelcolor=color)\n",
    "fig.tight_layout()\n",
    "\n",
    "plt.show()"
   ]
  },
  {
   "cell_type": "markdown",
   "metadata": {},
   "source": [
    "## Coincidence counts as a function of pump polarization"
   ]
  },
  {
   "cell_type": "code",
   "execution_count": 23,
   "metadata": {},
   "outputs": [],
   "source": [
    "import os\n",
    "\n",
    "data_dir = 'measurements/coincidence_counts/pump_polarization'\n",
    "\n",
    "polarizations = np.array([])\n",
    "coinc_rate = np.array([], dtype=np.float64)\n",
    "\n",
    "coinc_window = 5000\n",
    "\n",
    "for file_name in os.listdir(data_dir):\n",
    "    \n",
    "    base_name, ext = os.path.splitext(file_name)\n",
    "    if ext != '.csv':\n",
    "        continue\n",
    "    \n",
    "    # we named each file d<degrees>.csv so we can just extract the value\n",
    "    deg = int(base_name.split('d')[-1])\n",
    "    \n",
    "    polarizations = np.append(polarizations, deg)\n",
    "    \n",
    "    sync, time = read_csv(os.path.join(data_dir, file_name))\n",
    "    \n",
    "    total_time = time[-1]\n",
    "    \n",
    "    coinc_rate = np.append(coinc_rate, count_coincidences(time, sync, coinc_window=coinc_window)/(total_time*1e-3))"
   ]
  },
  {
   "cell_type": "code",
   "execution_count": 24,
   "metadata": {},
   "outputs": [
    {
     "data": {
      "application/vnd.jupyter.widget-view+json": {
       "model_id": "84e62051fad841c69688eecf59292134",
       "version_major": 2,
       "version_minor": 0
      },
      "text/plain": [
       "Canvas(toolbar=Toolbar(toolitems=[('Home', 'Reset original view', 'home', 'home'), ('Back', 'Back to previous …"
      ]
     },
     "metadata": {},
     "output_type": "display_data"
    }
   ],
   "source": [
    "fig, ax = plt.subplots()\n",
    "ax.plot(polarizations, coinc_rate, linestyle='--', marker='o')\n",
    "\n",
    "ax.ticklabel_format(axis=\"y\", style=\"sci\", scilimits=(0,0))\n",
    "ax.set_xlabel('Rotation angle')\n",
    "ax.set_ylabel('Coincidence rate [1/ns]') \n",
    "\n",
    "plt.show()"
   ]
  }
 ],
 "metadata": {
  "kernelspec": {
   "display_name": "Python 3",
   "language": "python",
   "name": "python3"
  },
  "language_info": {
   "codemirror_mode": {
    "name": "ipython",
    "version": 3
   },
   "file_extension": ".py",
   "mimetype": "text/x-python",
   "name": "python",
   "nbconvert_exporter": "python",
   "pygments_lexer": "ipython3",
   "version": "3.7.6"
  }
 },
 "nbformat": 4,
 "nbformat_minor": 4
}
